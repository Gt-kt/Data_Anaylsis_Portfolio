{
 "cells": [
  {
   "cell_type": "code",
   "execution_count": null,
   "id": "import-libraries",
   "metadata": {},
   "outputs": [],
   "source": [
    "import pandas as pd\n",
    "import numpy as np\n",
    "import matplotlib.pyplot as plt\n",
    "import seaborn as sns\n",
    "from imblearn.over_sampling import SMOTE\n",
    "from sklearn.model_selection import train_test_split\n",
    "from sklearn.linear_model import LogisticRegression\n",
    "from sklearn.metrics import classification_report, confusion_matrix, accuracy_score\n",
    "from sklearn.preprocessing import StandardScaler\n",
    "\n",
    "sns.set(style='whitegrid')\n",
    "%matplotlib inline"
   ]
  },
  {
   "cell_type": "code",
   "execution_count": null,
   "id": "load-data",
   "metadata": {},
   "outputs": [],
   "source": [
    "df = pd.read_csv('c:/Users/c/Downloads/Bank_analysis/Bank_Analysis/notebooks/Data/bank-additional-full.csv', sep=';')\n",
    "df.head()"
   ]
  },
  {
   "cell_type": "code",
   "execution_count": null,
   "id": "data-info",
   "metadata": {},
   "outputs": [],
   "source": [
    "df.info()\n",
    "df.describe()\n",
    "df.isnull().sum()"
   ]
  },
  {
   "cell_type": "code",
   "execution_count": null,
   "id": "data-cleaning",
   "metadata": {},
   "outputs": [],
   "source": [
    "df.replace('unknown', np.nan, inplace=True)\n",
    "df.isnull().sum()\n",
    "categorical_cols = df.select_dtypes(include=['object']).columns\n",
    "\n",
    "for col in categorical_cols:\n",
    "    df[col].fillna(df[col].mode()[0], inplace=True)"
   ]
  },
  {
   "cell_type": "code",
   "execution_count": null,
   "id": "eda-subscription-distribution",
   "metadata": {},
   "outputs": [],
   "source": [
    "sns.countplot(x='y', data=df)\n",
    "plt.title('Subscription Distribution')\n",
    "plt.show()\n",
    "\n",
    "subscription_rate = df['y'].value_counts(normalize=True)\n",
    "subscription_rate"
   ]
  },
  {
   "cell_type": "markdown",
   "id": "insight-subscription-imbalance",
   "metadata": {},
   "source": [
    "### Target Variable Distribution\n",
    "\n",
    "Imbalance in Subscription Rates:\n",
    "\n",
    "- Total Clients: 41,188\n",
    "- Subscribed ('yes'): 4,640 clients (11.3%)\n",
    "- Did Not Subscribe ('no'): 36,548 clients (88.7%)\n",
    "\n",
    "Insight: The dataset is heavily imbalanced, with a small proportion of clients subscribing to the term deposit. This imbalance needs to be addressed during modeling to avoid biased predictions."
   ]
  },
  {
   "cell_type": "code",
   "execution_count": null,
   "id": "eda-age-distribution",
   "metadata": {},
   "outputs": [],
   "source": [
    "plt.figure(figsize=(10,5))\n",
    "sns.histplot(df['age'], bins=30, kde=True)\n",
    "plt.title('Age Distribution')\n",
    "plt.show()"
   ]
  },
  {
   "cell_type": "code",
   "execution_count": null,
   "id": "eda-age-group",
   "metadata": {},
   "outputs": [],
   "source": [
    "df['age_group'] = pd.cut(df['age'], bins=[17,25,35,45,55,65,95],labels=['18-25','26-35','36-45','46-55','56-65','66+'])\n",
    "\n",
    "plt.figure(figsize=(10,5))\n",
    "sns.countplot(x='age_group',hue='y', data=df)\n",
    "plt.title('Subscription by Age Group')\n",
    "plt.show()"
   ]
  },
  {
   "cell_type": "markdown",
   "id": "insight-age-distribution",
   "metadata": {},
   "source": [
    "### Age Distribution:\n",
    "\n",
    "The majority of clients are between 30 and 40 years old.\n",
    "\n",
    "- 18-25: 8%\n",
    "- 26-35: 10%\n",
    "- 36-45: 12%\n",
    "- 46-55: 14%\n",
    "- 56-65: 22%\n",
    "- 66+: 25%\n",
    "\n",
    "Insight: Older clients, especially those over 56 years old, have higher subscription rates. Marketing efforts could be more effective if focused on older demographics."
   ]
  },
  {
   "cell_type": "code",
   "execution_count": null,
   "id": "eda-job-impact",
   "metadata": {},
   "outputs": [],
   "source": [
    "plt.figure(figsize=(12,6))\n",
    "sns.countplot(y='job', hue='y',data=df, order=df['job'].value_counts().index)\n",
    "plt.title('Subscription by Job')\n",
    "plt.show()"
   ]
  },
  {
   "cell_type": "markdown",
   "id": "insight-job-impact",
   "metadata": {},
   "source": [
    "### Job Role Impact\n",
    "\n",
    "Subscription Rates by Job:\n",
    "\n",
    "- Student: 31%\n",
    "- Retired: 25%\n",
    "- Unemployed: 14%\n",
    "- Admin.: 12%\n",
    "- Management: 11%\n",
    "- Blue-collar: 7%\n",
    "- Services: 8%\n",
    "\n",
    "Insight: 'Students' and 'retired' individuals show the highest propensity to subscribe. Conversely, 'blue-collar' workers have the lowest subscription rate. Tailoring marketing strategies based on job roles could improve campaign effectiveness."
   ]
  },
  {
   "cell_type": "code",
   "execution_count": null,
   "id": "eda-correlation-analysis",
   "metadata": {},
   "outputs": [],
   "source": [
    "numerical_cols = ['age', 'duration', 'campaign', 'pdays', 'previous', 'emp.var.rate', 'cons.price.idx', 'cons.conf.idx', 'euribor3m', 'nr.employed']\n",
    "corr_matrix = df[numerical_cols].corr()\n",
    "\n",
    "plt.figure(figsize=(12,10))\n",
    "sns.heatmap(corr_matrix, annot=True, cmap='coolwarm')\n",
    "plt.title('Correlation Heatmap')\n",
    "plt.show()"
   ]
  },
  {
   "cell_type": "markdown",
   "id": "insight-correlation-analysis",
   "metadata": {},
   "source": [
    "### Correlation Analysis\n",
    "\n",
    "Strong Correlations:\n",
    "\n",
    "- emp.var.rate and euribor3m: 0.97\n",
    "- nr.employed and emp.var.rate: 0.90\n",
    "\n",
    "Negative Correlations with Subscription (y_yes):\n",
    "\n",
    "- euribor3m: -0.31\n",
    "- nr.employed: -0.35\n",
    "\n",
    "Insight: Economic indicators are highly interrelated and have significant associations with the likelihood of subscription. Lower employment rates and interest rates are linked to higher subscription rates."
   ]
  },
  {
   "cell_type": "code",
   "execution_count": null,
   "id": "data-preprocessing",
   "metadata": {},
   "outputs": [],
   "source": [
    "df_encoded = pd.get_dummies(df, drop_first=True)\n",
    "\n",
    "scaler = StandardScaler()\n",
    "df_encoded[numerical_cols] = scaler.fit_transform(df_encoded[numerical_cols])"
   ]
  },
  {
   "cell_type": "code",
   "execution_count": null,
   "id": "smote-implementation",
   "metadata": {},
   "outputs": [],
   "source": [
    "# Implementing SMOTE for class balancing\n",
    "smote = SMOTE(random_state=42)\n",
    "X = df_encoded.drop('y_yes', axis=1)\n",
    "y = df_encoded['y_yes']\n",
    "\n",
    "X_resampled, y_resampled = smote.fit_resample(X, y)\n",
    "\n",
    "X_train, X_test, y_train, y_test = train_test_split(X_resampled, y_resampled, test_size=0.2, random_state=42)"
   ]
  },
  {
   "cell_type": "code",
   "execution_count": null,
   "id": "model-training",
   "metadata": {},
   "outputs": [],
   "source": [
    "model = LogisticRegression(max_iter=1000)\n",
    "model.fit(X_train, y_train)\n",
    "\n",
    "y_pred = model.predict(X_test)\n",
    "\n",
    "cm = confusion_matrix(y_test, y_pred)\n",
    "sns.heatmap(cm, annot=True, fmt='d')\n",
    "plt.title('Confusion Matrix')\n",
    "plt.show()\n",
    "\n",
    "print(classification_report(y_test, y_pred))\n",
    "\n",
    "accuracy = accuracy_score(y_test, y_pred)\n",
    "print(f\"Accuracy: {accuracy:.2%}\")"
   ]
  },
  {
   "cell_type": "markdown",
   "id": "model-evaluation",
   "metadata": {},
   "source": [
    "### Model Evaluation\n",
    "\n",
    "1. Overall Accuracy\n",
    "\n",
    "Accuracy: The model achieved an accuracy of 90.98%, indicating that it correctly predicts whether a client will subscribe to a term deposit approximately 91% of the time on the test dataset.\n",
    "\n",
    "2. Classification Report Breakdown\n",
    "\n",
    "The classification report provides performance metrics for each class:\n",
    "\n",
    "- Class 0: Did Not Subscribe\n",
    "  - Precision: 0.93\n",
    "  - Recall: 0.97\n",
    "  - F1-Score: 0.95\n",
    "  - Support (Number of Instances): 7,303\n",
    "- Class 1: Subscribed\n",
    "  - Precision: 0.66\n",
    "  - Recall: 0.43\n",
    "  - F1-Score: 0.52\n",
    "  - Support (Number of Instances): 935\n",
    "\n",
    "3. Interpretation of Metrics\n",
    "\n",
    "Precision\n",
    "\n",
    "- Class 0 (0.93): When the model predicts a client will not subscribe, it is correct 93% of the time.\n",
    "- Class 1 (0.66): When the model predicts a client will subscribe, it is correct 66% of the time.\n",
    "\n",
    "Recall\n",
    "\n",
    "- Class 0 (0.97): The model correctly identifies 97% of clients who did not subscribe.\n",
    "- Class 1 (0.43): The model correctly identifies only 43% of clients who did subscribe.\n",
    "\n",
    "F1-Score\n",
    "\n",
    "- Class 0 (0.95): High F1-score indicates excellent balance between precision and recall for non-subscribers.\n",
    "- Class 1 (0.52): Lower F1-score reflects poor balance for subscribers due to lower recall.\n",
    "\n",
    "4. Macro and Weighted Averages\n",
    "\n",
    "Macro Average:\n",
    "\n",
    "- Precision: 0.79\n",
    "- Recall: 0.70\n",
    "- F1-Score: 0.73\n",
    "\n",
    "Interpretation: The unweighted mean performance across both classes, indicating moderate overall performance.\n",
    "\n",
    "Weighted Average:\n",
    "\n",
    "- Precision: 0.90\n",
    "- Recall: 0.91\n",
    "- F1-Score: 0.90\n",
    "\n",
    "Interpretation: The average performance weighted by the number of instances in each class, skewed towards Class 0 due to class imbalance."
   ]
  }
 ],
 "metadata": {
  "kernelspec": {
   "display_name": "Python 3",
   "language": "python",
   "name": "python3"
  },
  "language_info": {
   "codemirror_mode": {
    "name": "ipython",
    "version": 3
   },
   "file_extension": ".py",
   "mimetype": "text/x-python",
   "name": "python",
   "nbconvert_exporter": "python",
   "pygments_lexer": "ipython3",
   "version": "3.8.5"
  }
 },
 "nbformat": 4,
 "nbformat_minor": 5
}
